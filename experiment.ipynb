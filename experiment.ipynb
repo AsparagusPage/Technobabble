{
 "cells": [
  {
   "cell_type": "code",
   "execution_count": null,
   "metadata": {
    "collapsed": false
   },
   "outputs": [],
   "source": [
    "import re\n",
    "\n",
    "import pandas as pd\n",
    "import nltk\n",
    "from nltk.corpus import gutenberg\n",
    "from nltk.corpus import stopwords\n",
    "import matplotlib.pyplot as plt\n",
    "import gensim\n",
    "import bs4"
   ]
  },
  {
   "cell_type": "code",
   "execution_count": null,
   "metadata": {
    "collapsed": false
   },
   "outputs": [],
   "source": [
    "episodes = pd.read_csv(\"data/tng.csv\")\n",
    "corpus = \" \".join(episodes[\"text\"].astype(str))\n",
    "sents = nltk.sent_tokenize(corpus)\n",
    "stops = stopwords.words(\"english\")\n",
    "sents = [clean(sent, stops) for sent in sents]"
   ]
  },
  {
   "cell_type": "code",
   "execution_count": null,
   "metadata": {
    "collapsed": false
   },
   "outputs": [],
   "source": [
    "def clean(text, stops):\n",
    "    text = bs4.BeautifulSoup(text).get_text()\n",
    "    text = re.sub(\"[^a-zA-Z]\",\" \", text)\n",
    "    return [w for w in text.lower().split() if w not in stops]\n"
   ]
  },
  {
   "cell_type": "code",
   "execution_count": 49,
   "metadata": {
    "collapsed": false
   },
   "outputs": [],
   "source": [
    "model = gensim.models.Word2Vec(sents, size=100, window=5, min_count=5, workers=4)\n",
    "model.save(\"data/tng.word2vec\")"
   ]
  }
 ],
 "metadata": {
  "anaconda-cloud": {},
  "kernelspec": {
   "display_name": "Python [default]",
   "language": "python",
   "name": "python3"
  },
  "language_info": {
   "codemirror_mode": {
    "name": "ipython",
    "version": 3
   },
   "file_extension": ".py",
   "mimetype": "text/x-python",
   "name": "python",
   "nbconvert_exporter": "python",
   "pygments_lexer": "ipython3",
   "version": "3.5.2"
  }
 },
 "nbformat": 4,
 "nbformat_minor": 1
}
